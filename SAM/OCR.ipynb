{
 "cells": [
  {
   "cell_type": "code",
   "execution_count": 100,
   "metadata": {
    "collapsed": false
   },
   "outputs": [],
   "source": [
    "from PIL import Image as pillow_image\n",
    "import pytesseract\n",
    "import argparse\n",
    "import cv2\n",
    "import os\n",
    "import PyPDF2\n",
    "from wand.image import Image  \n",
    "# wand required: $ brew install imagemagick@6  (get version 6)\n",
    "#                $ export MAGICK_HOME=/usr/local/opt/imagemagick@6   \n",
    "#                $ brew link imagemagick@6 --force\n",
    "#                $ brew install ghostscript\n",
    "import io"
   ]
  },
  {
   "cell_type": "code",
   "execution_count": 109,
   "metadata": {
    "collapsed": false
   },
   "outputs": [
    {
     "name": "stdout",
     "output_type": "stream",
     "text": [
      "Custom Partner Solutions_DOJ_National FOIA Portal cloud.gov - July 2017 Invoice copy.pdf\r\n",
      "NDA_McAllister.pdf\r\n",
      "OCR.ipynb\r\n",
      "SAM_API.ipynb\r\n",
      "SAM_API_key\r\n",
      "ocr.py\r\n"
     ]
    }
   ],
   "source": []
  },
  {
   "cell_type": "code",
   "execution_count": 110,
   "metadata": {
    "collapsed": false
   },
   "outputs": [],
   "source": [
    "# import pdf and convert to image\n",
    "with Image(filename=\"NDA_McAllister.pdf\") as img:\n",
    "     img.save(filename=\"test.jpg\")"
   ]
  },
  {
   "cell_type": "code",
   "execution_count": 111,
   "metadata": {
    "collapsed": false
   },
   "outputs": [
    {
     "name": "stdout",
     "output_type": "stream",
     "text": [
      "Custom Partner Solutions_DOJ_National FOIA Portal cloud.gov - July 2017 Invoice copy.pdf\r\n",
      "NDA_McAllister.pdf\r\n",
      "OCR.ipynb\r\n",
      "SAM_API.ipynb\r\n",
      "SAM_API_key\r\n",
      "ocr.py\r\n",
      "test-0.jpg\r\n",
      "test-1.jpg\r\n"
     ]
    }
   ],
   "source": []
  },
  {
   "cell_type": "code",
   "execution_count": 112,
   "metadata": {
    "collapsed": true
   },
   "outputs": [],
   "source": [
    "# load the example image and convert it to grayscale\n",
    "image = cv2.imread('test-0.jpg')\n",
    "gray = cv2.cvtColor(image, cv2.COLOR_BGR2GRAY)"
   ]
  },
  {
   "cell_type": "code",
   "execution_count": 113,
   "metadata": {
    "collapsed": false
   },
   "outputs": [
    {
     "data": {
      "text/plain": [
       "True"
      ]
     },
     "execution_count": 113,
     "metadata": {},
     "output_type": "execute_result"
    }
   ],
   "source": [
    "# write the grayscale image to disk as a temporary file so we can apply OCR to it\n",
    "filename = \"{}.jpg\".format(os.getpid())\n",
    "cv2.imwrite(filename, gray)"
   ]
  },
  {
   "cell_type": "code",
   "execution_count": 116,
   "metadata": {
    "collapsed": false
   },
   "outputs": [
    {
     "name": "stdout",
     "output_type": "stream",
     "text": [
      "Custom Partner Solutions_DOJ_National FOIA Portal cloud.gov - July 2017 Invoice copy.pdf\r\n",
      "NDA_McAllister.jpg\r\n",
      "NDA_McAllister.pdf\r\n",
      "OCR.ipynb\r\n",
      "SAM_API.ipynb\r\n",
      "SAM_API_key\r\n",
      "ocr.py\r\n",
      "test-0.jpg\r\n",
      "test-1.jpg\r\n"
     ]
    }
   ],
   "source": [
    "%ls"
   ]
  },
  {
   "cell_type": "code",
   "execution_count": 118,
   "metadata": {
    "collapsed": false
   },
   "outputs": [
    {
     "name": "stdout",
     "output_type": "stream",
     "text": [
      "FEDSIM\n",
      "\n",
      "Non-Disclosure Agreement\n",
      "C ummmr Loyalty Surw: ' Dam Science Cumlmm\n",
      "For research conducted on the Customer Loyalty Survey, I agree to the following:\n",
      "\n",
      "(a) To the best of my knowledge and belief, no conﬂict ofinterest exists that may either:\n",
      "(I) Diminish my capacity to impartially review the data.\n",
      "(2) Or result in a biased opinion that may influence the research I present.\n",
      "\n",
      "(b) In making the above statement, 1 have considered all the following factars that might place me in a\n",
      "position ofconﬂict, real or apparent, with the evaluation proceedings:\n",
      "(I) All my stocks, bonds, other outstanding ﬁnancial interests or commitments.\n",
      "(2) All my employment arrangements (past, present, and under consideration).\n",
      "(3) As far as I know, all ﬁnancial interests and employment arrangements ofmy spouse, minor\n",
      "children, and other members of my immediate household.\n",
      "\n",
      "(c) I have read and understand the requirements of the Standards of Ethical Conduct for Employees of\n",
      "the Executive Branch (5 C.F.R. part 2635) and Supplemental Standards of Ethical Conduct for\n",
      "Employees oflhe General Services Administration (5 CFR, part 6701).\n",
      "\n",
      "(d) l have a continuing obligation to disclose any circumstances that may create an actual or apparent\n",
      "conﬂict ufinterest. lfl lenm ofany such conﬂict, I will report it immediately to the Ofﬁce of\n",
      "Customer Experience.\n",
      "\n",
      "(e) 1 will use the data for research purposes only. I understand that any authorized restriction on\n",
      "disclosure placed on the proposal by the survey data owners or the Government applies to any\n",
      "reproduction or abstracted information of the data.\n",
      "\n",
      "(0 I will use my best efforts to safeguard data physically. I will not disclose the contents of, nor release\n",
      "any infomation about, the data to anyone other than:\n",
      "(I) The General Services Administration\n",
      "(2) Other individuals designated by the Ofﬁce of Customer Experience or Federal Acquisition\n",
      "Service Customer Accounts and Stakeholder Engagement\n",
      "\n",
      "(g) Alter completing evaluation 1 will return to the Government all results of my research.\n",
      "\n",
      "(It) GSA Appropriations Act restriction: These restrictions are consistent with and do not supersede,\n",
      "conﬂict with, or otherwise alter the employee obligations, rights, or liabilities created by Executive\n",
      "Order No. l2953; section 721 | oftitle 5, United States Code (governing disclosures to Congress);\n",
      "section |034 oftitle lo, United States Code, as amended by the Military Whistlehlower Protection\n",
      "Act (governing disclosure to Congress by members ofthe military); section 2302(h)(8) of title 5,\n",
      "United States Codes, as amended by the Whistleblower Protection Act (governing disclosures of\n",
      "illegality, waste, fmud, abuse or public health or safety threats); the Intelligence Identities Protection\n",
      "Act of I982 (50 UtS.C. 42] et seq) (governing disclosures that could expose conﬁdential\n",
      "Government agents); and the statutes which protect against disclosure that may compromise the\n",
      "national security, including sections 641, 793, 794, 798, and 952 oftitle IE, United States Code, and\n",
      "section 4(b) ofthe Subversive Activities Act of 1950 (50 U.StCt 78303) The deﬁnitions,\n",
      "requirements. obligations, rights, sanctions, and liabilities created by said Executive order and listed\n",
      "statutes are incorporated into this agreement and are controlling.\n",
      "\n",
      "FEDSIM is a Clivnt Suppoll Canlel housed within GSA, FAS. MS\n",
      "\n",
      "Template Vevsion 5/10/17\n"
     ]
    }
   ],
   "source": [
    "# load the image as a PIL/Pillow image, apply OCR, and then delete the temporary file\n",
    "text = pytesseract.image_to_string(pillow_image.open('NDA_McAllister.jpg'))\n",
    "#os.remove(filename)\n",
    "#print the text we've stored as a string\n",
    "print(text)"
   ]
  },
  {
   "cell_type": "code",
   "execution_count": null,
   "metadata": {
    "collapsed": false
   },
   "outputs": [],
   "source": []
  },
  {
   "cell_type": "code",
   "execution_count": null,
   "metadata": {
    "collapsed": true
   },
   "outputs": [],
   "source": []
  }
 ],
 "metadata": {
  "kernelspec": {
   "display_name": "Python 3",
   "language": "python",
   "name": "python3"
  },
  "language_info": {
   "codemirror_mode": {
    "name": "ipython",
    "version": 3
   },
   "file_extension": ".py",
   "mimetype": "text/x-python",
   "name": "python",
   "nbconvert_exporter": "python",
   "pygments_lexer": "ipython3",
   "version": "3.6.0"
  }
 },
 "nbformat": 4,
 "nbformat_minor": 2
}
